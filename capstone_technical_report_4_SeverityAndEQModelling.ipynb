{
 "cells": [
  {
   "cell_type": "markdown",
   "metadata": {
    "deletable": true,
    "editable": true
   },
   "source": [
    "---\n",
    "## Technical Report Notebook 4\n",
    "---\n",
    "### Modelling Extension - Hailstorm Severity + Earthquake Classification Investigations\n",
    "\n",
    "This notebook extends the tweet investigations into two different classificiation exercises, to answer the following questions:\n",
    "\n",
    "    1. Can tweets predict hail events of differing magnitude?\n",
    "    2. Can tweets predict other types of natural catastrophes?\n",
    "    \n",
    "---"
   ]
  },
  {
   "cell_type": "markdown",
   "metadata": {
    "deletable": true,
    "editable": true
   },
   "source": [
    "### 1. Hail Severity Test\n",
    "\n",
    "Now we know that tweets can effectively predict hail using a classification algorithm, a secondary investigation event severity will be conducted. The purpose of this is to investigate whether the language used in the more severe Brisbane (2014) event is different to Sydney (2015).\n",
    "\n",
    "To do this I will adjust the classification exercise using the event ID's as classes:\n",
    "\n",
    "- Brisbane Hail (Cat_ID - 144):   **1**\n",
    "- Sydney Hail (Cat_ID - 154):   **0**"
   ]
  },
  {
   "cell_type": "code",
   "execution_count": 14,
   "metadata": {
    "collapsed": true,
    "deletable": true,
    "editable": true
   },
   "outputs": [],
   "source": [
    "# Import modelling libraries\n",
    "\n",
    "import matplotlib.pyplot as plt\n",
    "import numpy as np\n",
    "import pandas as pd\n",
    "import seaborn as sns\n",
    "\n",
    "from sklearn.feature_extraction.text import TfidfTransformer\n",
    "from sklearn.ensemble import RandomForestClassifier\n",
    "from sklearn.model_selection import GridSearchCV, cross_val_score, train_test_split\n",
    "from sklearn.preprocessing import StandardScaler\n",
    "from sklearn.metrics import classification_report, confusion_matrix, accuracy_score, precision_score, recall_score\n",
    "\n",
    "%matplotlib inline\n",
    "%config InlineBackend.figure_format = 'retina'"
   ]
  },
  {
   "cell_type": "code",
   "execution_count": 15,
   "metadata": {
    "collapsed": false,
    "deletable": true,
    "editable": true
   },
   "outputs": [],
   "source": [
    "# Import tweet data\n",
    "hail_tweet_text = pd.read_csv(\"./hail_tweet_text.csv\")\n",
    "# Drop Index column\n",
    "hail_tweet_text.drop('Unnamed: 0',axis=1,inplace=True)"
   ]
  },
  {
   "cell_type": "code",
   "execution_count": 16,
   "metadata": {
    "collapsed": false,
    "deletable": true,
    "editable": true
   },
   "outputs": [
    {
     "name": "stdout",
     "output_type": "stream",
     "text": [
      "(4786, 1026)\n"
     ]
    },
    {
     "name": "stderr",
     "output_type": "stream",
     "text": [
      "/Library/Frameworks/Python.framework/Versions/3.6/lib/python3.6/site-packages/ipykernel/__main__.py:7: SettingWithCopyWarning: \n",
      "A value is trying to be set on a copy of a slice from a DataFrame.\n",
      "Try using .loc[row_indexer,col_indexer] = value instead\n",
      "\n",
      "See the caveats in the documentation: http://pandas.pydata.org/pandas-docs/stable/indexing.html#indexing-view-versus-copy\n",
      "/Library/Frameworks/Python.framework/Versions/3.6/lib/python3.6/site-packages/pandas/core/indexing.py:477: SettingWithCopyWarning: \n",
      "A value is trying to be set on a copy of a slice from a DataFrame.\n",
      "Try using .loc[row_indexer,col_indexer] = value instead\n",
      "\n",
      "See the caveats in the documentation: http://pandas.pydata.org/pandas-docs/stable/indexing.html#indexing-view-versus-copy\n",
      "  self.obj[item] = s\n"
     ]
    }
   ],
   "source": [
    "# Create Brisbane and Sydney Event classes to test severity\n",
    "\n",
    "# Create subset dataframe for hail-only tweets\n",
    "hail_tweet_text_hail = hail_tweet_text.ix[hail_tweet_text['hail'] > 0]                            \n",
    "\n",
    "# Create new target variable\n",
    "hail_tweet_text_hail['event_class'] = 0\n",
    "\n",
    "# Set Brisbane event to 1\n",
    "hail_tweet_text_hail.ix[hail_tweet_text_hail['Cat_ID'] == 144, 'event_class'] = 1\n",
    "\n",
    "# Check shape of new dataset\n",
    "print(hail_tweet_text_hail.shape)\n",
    "\n",
    "# Set event class as y-predictor\n",
    "y_hail = hail_tweet_text_hail['event_class']"
   ]
  },
  {
   "cell_type": "code",
   "execution_count": 17,
   "metadata": {
    "collapsed": false,
    "deletable": true,
    "editable": true
   },
   "outputs": [
    {
     "data": {
      "text/plain": [
       "<matplotlib.axes._subplots.AxesSubplot at 0x120fc2c18>"
      ]
     },
     "execution_count": 17,
     "metadata": {},
     "output_type": "execute_result"
    },
    {
     "data": {
      "image/png": "[encoded data removed]",
      "text/plain": [
       "<matplotlib.figure.Figure at 0x15c701780>"
      ]
     },
     "metadata": {
      "image/png": {
       "height": 461,
       "width": 601
      }
     },
     "output_type": "display_data"
    }
   ],
   "source": [
    "# Plot class counts of Brisbane (1) vs. Sydney (0)\n",
    "\n",
    "hail_tweet_text_hail['event_class'].value_counts().plot(figsize=(10,8),kind='bar',color='red')"
   ]
  },
  {
   "cell_type": "code",
   "execution_count": 18,
   "metadata": {
    "collapsed": false,
    "deletable": true,
    "editable": true
   },
   "outputs": [
    {
     "name": "stdout",
     "output_type": "stream",
     "text": [
      "(4786, 1000)\n",
      "(4786, 990)\n"
     ]
    }
   ],
   "source": [
    "# Create Severity modelling dataframe:\n",
    "\n",
    "# Remove twitter user data\n",
    "X_hail_tweets = hail_tweet_text_hail.ix[:,26:]\n",
    "print (X_hail_tweets.shape)\n",
    "\n",
    "# Drop columns from dataframe relating to hail, location and event to create predictors\n",
    "X_hail_tweets.drop(X_hail_tweets[['hail','hailstorm','event_class','australia','bnestorm','queensland','sydney',\n",
    "                                  'sydneystorm','brisbane','brisbanestorm']], axis=1, inplace=True)\n",
    "print (X_hail_tweets.shape)"
   ]
  },
  {
   "cell_type": "markdown",
   "metadata": {
    "deletable": true,
    "editable": true
   },
   "source": [
    "### _Random Forest Classification_"
   ]
  },
  {
   "cell_type": "code",
   "execution_count": 20,
   "metadata": {
    "collapsed": false,
    "deletable": true,
    "editable": true
   },
   "outputs": [
    {
     "data": {
      "text/plain": [
       "RandomForestClassifier(bootstrap=True, class_weight=None, criterion='gini',\n",
       "            max_depth=None, max_features='auto', max_leaf_nodes=None,\n",
       "            min_impurity_split=1e-07, min_samples_leaf=1,\n",
       "            min_samples_split=2, min_weight_fraction_leaf=0.0,\n",
       "            n_estimators=20, n_jobs=1, oob_score=False, random_state=None,\n",
       "            verbose=0, warm_start=False)"
      ]
     },
     "execution_count": 20,
     "metadata": {},
     "output_type": "execute_result"
    }
   ],
   "source": [
    "# transform our predictors\n",
    "tf_transformer = TfidfTransformer(use_idf=False).fit(X_hail_tweets)\n",
    "X_hail = tf_transformer.transform(X_hail_tweets)\n",
    "\n",
    "# create train/test (0.8 split found to give fairly good performance)\n",
    "X_train_hail, X_test_hail, y_train_hail, y_test_hail = train_test_split(X_hail_tweets, y_hail, test_size=0.8)\n",
    "\n",
    "# set up RFC model with hyperparameters from hail model evaluation:\n",
    "rfc_hail = RandomForestClassifier(bootstrap=True, class_weight=None, criterion='gini',\n",
    "            max_depth=None, max_features='auto', max_leaf_nodes=None,\n",
    "            min_impurity_split=1e-07, min_samples_leaf=1,\n",
    "            min_samples_split=2, min_weight_fraction_leaf=0.0,\n",
    "            n_estimators=20, n_jobs=1, oob_score=False, random_state=None,\n",
    "            verbose=0, warm_start=False)\n",
    "\n",
    "# Extract the top features from the decision tree classifier.\n",
    "rfc_hail.fit(X_train_hail, y_train_hail)"
   ]
  },
  {
   "cell_type": "code",
   "execution_count": 21,
   "metadata": {
    "collapsed": false,
    "deletable": true,
    "editable": true
   },
   "outputs": [
    {
     "data": {
      "text/html": [
       "<div>\n",
       "<table border=\"1\" class=\"dataframe\">\n",
       "  <thead>\n",
       "    <tr style=\"text-align: right;\">\n",
       "      <th></th>\n",
       "      <th>feature</th>\n",
       "      <th>importance</th>\n",
       "    </tr>\n",
       "  </thead>\n",
       "  <tbody>\n",
       "    <tr>\n",
       "      <th>757</th>\n",
       "      <td>slammed</td>\n",
       "      <td>0.051361</td>\n",
       "    </tr>\n",
       "    <tr>\n",
       "      <th>818</th>\n",
       "      <td>super</td>\n",
       "      <td>0.051156</td>\n",
       "    </tr>\n",
       "    <tr>\n",
       "      <th>138</th>\n",
       "      <td>chaos</td>\n",
       "      <td>0.045928</td>\n",
       "    </tr>\n",
       "    <tr>\n",
       "      <th>972</th>\n",
       "      <td>worst</td>\n",
       "      <td>0.039857</td>\n",
       "    </tr>\n",
       "    <tr>\n",
       "      <th>128</th>\n",
       "      <td>causes</td>\n",
       "      <td>0.033782</td>\n",
       "    </tr>\n",
       "    <tr>\n",
       "      <th>503</th>\n",
       "      <td>massive</td>\n",
       "      <td>0.030932</td>\n",
       "    </tr>\n",
       "    <tr>\n",
       "      <th>797</th>\n",
       "      <td>storm</td>\n",
       "      <td>0.027823</td>\n",
       "    </tr>\n",
       "    <tr>\n",
       "      <th>318</th>\n",
       "      <td>golf</td>\n",
       "      <td>0.018724</td>\n",
       "    </tr>\n",
       "    <tr>\n",
       "      <th>645</th>\n",
       "      <td>powerful</td>\n",
       "      <td>0.016238</td>\n",
       "    </tr>\n",
       "    <tr>\n",
       "      <th>860</th>\n",
       "      <td>thousands</td>\n",
       "      <td>0.015851</td>\n",
       "    </tr>\n",
       "    <tr>\n",
       "      <th>843</th>\n",
       "      <td>tens</td>\n",
       "      <td>0.014849</td>\n",
       "    </tr>\n",
       "    <tr>\n",
       "      <th>367</th>\n",
       "      <td>hit</td>\n",
       "      <td>0.014751</td>\n",
       "    </tr>\n",
       "    <tr>\n",
       "      <th>644</th>\n",
       "      <td>power</td>\n",
       "      <td>0.012641</td>\n",
       "    </tr>\n",
       "    <tr>\n",
       "      <th>383</th>\n",
       "      <td>huge</td>\n",
       "      <td>0.011026</td>\n",
       "    </tr>\n",
       "    <tr>\n",
       "      <th>875</th>\n",
       "      <td>today</td>\n",
       "      <td>0.009620</td>\n",
       "    </tr>\n",
       "    <tr>\n",
       "      <th>44</th>\n",
       "      <td>ball</td>\n",
       "      <td>0.009309</td>\n",
       "    </tr>\n",
       "    <tr>\n",
       "      <th>942</th>\n",
       "      <td>weather</td>\n",
       "      <td>0.008936</td>\n",
       "    </tr>\n",
       "    <tr>\n",
       "      <th>737</th>\n",
       "      <td>severe</td>\n",
       "      <td>0.008496</td>\n",
       "    </tr>\n",
       "    <tr>\n",
       "      <th>956</th>\n",
       "      <td>wind</td>\n",
       "      <td>0.008178</td>\n",
       "    </tr>\n",
       "    <tr>\n",
       "      <th>659</th>\n",
       "      <td>qld</td>\n",
       "      <td>0.007478</td>\n",
       "    </tr>\n",
       "  </tbody>\n",
       "</table>\n",
       "</div>"
      ],
      "text/plain": [
       "       feature  importance\n",
       "757    slammed    0.051361\n",
       "818      super    0.051156\n",
       "138      chaos    0.045928\n",
       "972      worst    0.039857\n",
       "128     causes    0.033782\n",
       "503    massive    0.030932\n",
       "797      storm    0.027823\n",
       "318       golf    0.018724\n",
       "645   powerful    0.016238\n",
       "860  thousands    0.015851\n",
       "843       tens    0.014849\n",
       "367        hit    0.014751\n",
       "644      power    0.012641\n",
       "383       huge    0.011026\n",
       "875      today    0.009620\n",
       "44        ball    0.009309\n",
       "942    weather    0.008936\n",
       "737     severe    0.008496\n",
       "956       wind    0.008178\n",
       "659        qld    0.007478"
      ]
     },
     "execution_count": 21,
     "metadata": {},
     "output_type": "execute_result"
    }
   ],
   "source": [
    "# Extract the top features from the decision tree classifier.\n",
    "\n",
    "top_features_rfc_hail = pd.DataFrame({\n",
    "        'feature':X_hail_tweets.columns,\n",
    "        'importance':rfc_hail.feature_importances_})\n",
    "\n",
    "top_features_rfc_hail.sort_values('importance', ascending=False, inplace=True)\n",
    "top_features_rfc_hail.head(20)"
   ]
  },
  {
   "cell_type": "code",
   "execution_count": 73,
   "metadata": {
    "collapsed": false
   },
   "outputs": [
    {
     "data": {
      "text/plain": [
       "<matplotlib.text.Text at 0x116446400>"
      ]
     },
     "execution_count": 73,
     "metadata": {},
     "output_type": "execute_result"
    },
    {
     "data": {
      "image/png": "[encoded data removed]",
      "text/plain": [
       "<matplotlib.figure.Figure at 0x11771d668>"
      ]
     },
     "metadata": {
      "image/png": {
       "height": 646,
       "width": 839
      }
     },
     "output_type": "display_data"
    }
   ],
   "source": [
    "# \"Hail\"term frequency distribution plot over time\n",
    "\n",
    "plt.figure(figsize=(14,10))\n",
    "plt.title(\"Feature Importance Chart Predicting 'Severe' Brisbane Hail Event\" ,size=16)\n",
    "ax = sns.barplot(x='feature', y='importance', data=top_features_rfc_hail.head(20),ci=None,palette=\"Reds_d\")\n",
    "plt.xlabel('Feature (Predictor)',size=14)\n",
    "plt.setp(ax.get_xticklabels(), rotation=45,size=12)\n",
    "plt.ylabel('Importance Score',size=14)"
   ]
  },
  {
   "cell_type": "code",
   "execution_count": 22,
   "metadata": {
    "collapsed": false,
    "deletable": true,
    "editable": true
   },
   "outputs": [
    {
     "name": "stdout",
     "output_type": "stream",
     "text": [
      "[ 0.79400261  0.82506527  0.82506527  0.81437908  0.82745098]\n",
      "0.817192644245\n",
      "confusion matrix\n",
      "          pred_severe  pred_moderate\n",
      "severe            888            513\n",
      "moderate          232           2196\n",
      "--------\n",
      "accuracy: 0.805432227736\n",
      "--------\n",
      "             precision    recall  f1-score   support\n",
      "\n",
      "          0       0.81      0.90      0.85      2428\n",
      "          1       0.79      0.63      0.70      1401\n",
      "\n",
      "avg / total       0.80      0.81      0.80      3829\n",
      "\n"
     ]
    }
   ],
   "source": [
    "rfc_hail_scores = cross_val_score(rfc_hail, X_test_hail, y_test_hail, cv=5)\n",
    "\n",
    "print (rfc_hail_scores)\n",
    "print (sum(rfc_hail_scores)/len(rfc_hail_scores))\n",
    "\n",
    "# Create predicted y values\n",
    "\n",
    "yhat_test_rfc_hail = rfc_hail.predict(X_test_hail)\n",
    "yhat_test_rfc_hail_pp = rfc_hail.predict_proba(X_test_hail)\n",
    "\n",
    "# convert the predicted and actual values to a confusion array\n",
    "\n",
    "confusion_array_rfc = confusion_matrix(y_test_hail, yhat_test_rfc_hail, labels=[1,0])\n",
    "\n",
    "confusion_rfc = pd.DataFrame(confusion_array_rfc, index=['severe','moderate'],\n",
    "                         columns=['pred_severe','pred_moderate'])\n",
    "\n",
    "print (\"confusion matrix\")\n",
    "print (confusion_rfc)\n",
    "print (\"--------\")\n",
    "print (\"accuracy:\", accuracy_score(y_test_hail, yhat_test_rfc_hail)) # accuracy = (tp + tn) / total_population)\n",
    "print (\"--------\")\n",
    "print (classification_report(y_test_hail, yhat_test_rfc_hail))"
   ]
  },
  {
   "cell_type": "markdown",
   "metadata": {},
   "source": [
    "#### Hail Severity Summary\n",
    "\n",
    "The hail severiy classification provides positive results.\n",
    "\n",
    "- Whilst the accuracy score is lower than those in the hail prediction modelling, it is still high at 0.82.\n",
    "- The true positive prediction (known severe hail tweets) of the test set is respectable, with high precision and moderate recall. This results in an overall f1 score of 0.8.\n",
    "- The most important features that predict the 'severe' class are also consistent with terms we would usually associate with damaging hail events: ***slammed, super, chaos, worst, massive.***\n",
    "\n",
    "Overall this initial investigation provides a very encouraging result and confidence that the tweet text can predict hail severity.\n",
    "\n",
    "---"
   ]
  },
  {
   "cell_type": "markdown",
   "metadata": {
    "deletable": true,
    "editable": true
   },
   "source": [
    "### 2. Earthquake Classification Investigation"
   ]
  },
  {
   "cell_type": "markdown",
   "metadata": {
    "deletable": true,
    "editable": true
   },
   "source": [
    "In the tweet EDA we identified another type of natural catastrophe - an earthquake event in Nepal. The economic loss of this event is estimated to be in excess of USD 6 billion.\n",
    "\n",
    "The serendipitous identification of another type of catastrophe in this study can let me investigate whether our optimal hail algorithm can also effectively identify tweets of a second type of catastrophe.\n",
    "\n",
    "Firstly I will create a new class target using 'hail' and 'earthquake' text from our data previously prepared for modelling..."
   ]
  },
  {
   "cell_type": "code",
   "execution_count": 23,
   "metadata": {
    "collapsed": true,
    "deletable": true,
    "editable": true
   },
   "outputs": [],
   "source": [
    "# Read in data:\n",
    "\n",
    "hail_tweet_text = pd.read_csv(\"./hail_tweet_text.csv\")\n",
    "hail_tweet_text.drop('Unnamed: 0',axis=1,inplace=True)"
   ]
  },
  {
   "cell_type": "markdown",
   "metadata": {
    "deletable": true,
    "editable": true
   },
   "source": [
    "Setting up the classification exercise with earthquake and hail classes (0, 1, 2)"
   ]
  },
  {
   "cell_type": "code",
   "execution_count": 24,
   "metadata": {
    "collapsed": false,
    "deletable": true,
    "editable": true
   },
   "outputs": [],
   "source": [
    "# Create hail and earthquake classes\n",
    "\n",
    "hail_tweet_text['catastrophe_class'] = 0\n",
    "\n",
    "hail_tweet_text.ix[hail_tweet_text['hail'] >= 1, 'catastrophe_class'] = 1\n",
    "hail_tweet_text.ix[hail_tweet_text['hailstorm'] >= 1, 'catastrophe_class'] = 1\n",
    "\n",
    "hail_tweet_text.ix[hail_tweet_text['earthquake'] >= 1, 'catastrophe_class'] = 2\n",
    "hail_tweet_text.ix[hail_tweet_text['quake'] >= 1, 'catastrophe_class'] = 2\n",
    "\n",
    "y_total = hail_tweet_text['catastrophe_class']"
   ]
  },
  {
   "cell_type": "code",
   "execution_count": 68,
   "metadata": {
    "collapsed": false
   },
   "outputs": [
    {
     "data": {
      "text/plain": [
       "<matplotlib.axes._subplots.AxesSubplot at 0x1112492b0>"
      ]
     },
     "execution_count": 68,
     "metadata": {},
     "output_type": "execute_result"
    },
    {
     "data": {
      "image/png": "[encoded data removed]",
      "text/plain": [
       "<matplotlib.figure.Figure at 0x153cb8908>"
      ]
     },
     "metadata": {
      "image/png": {
       "height": 461,
       "width": 612
      }
     },
     "output_type": "display_data"
    }
   ],
   "source": [
    "# Plot out earthquake, hail and 0 classes\n",
    "\n",
    "hail_tweet_text['catastrophe_class'].value_counts().plot(figsize=(10,8),kind='bar',color='blue')"
   ]
  },
  {
   "cell_type": "code",
   "execution_count": 25,
   "metadata": {
    "collapsed": false,
    "deletable": true,
    "editable": true
   },
   "outputs": [
    {
     "name": "stdout",
     "output_type": "stream",
     "text": [
      "(127989, 1000)\n",
      "(127989, 995)\n"
     ]
    }
   ],
   "source": [
    "# Create predictors\n",
    "\n",
    "htt_total = hail_tweet_text.ix[:,26:]\n",
    "print (htt_total.shape)\n",
    "\n",
    "htt_total.drop(htt_total[['hail','hailstorm','earthquake','quake','catastrophe_class']], axis=1, inplace=True)\n",
    "print (htt_total.shape)"
   ]
  },
  {
   "cell_type": "markdown",
   "metadata": {
    "deletable": true,
    "editable": true
   },
   "source": [
    "### Random Forest Classification\n",
    "\n",
    "I will now use the optimised algorithm from the hail identification modelling to see how well it identifies the more severe Brisbane event compared to Sydney."
   ]
  },
  {
   "cell_type": "code",
   "execution_count": 33,
   "metadata": {
    "collapsed": true,
    "deletable": true,
    "editable": true
   },
   "outputs": [],
   "source": [
    "# Transform a count matrix to a normalized tf or tf-idf representation\n",
    "tf_transformer = TfidfTransformer(use_idf=False).fit(htt_total)\n",
    "X_total_tf = tf_transformer.transform(htt_total)"
   ]
  },
  {
   "cell_type": "code",
   "execution_count": 34,
   "metadata": {
    "collapsed": false,
    "deletable": true,
    "editable": true
   },
   "outputs": [
    {
     "data": {
      "text/plain": [
       "RandomForestClassifier(bootstrap=True, class_weight=None, criterion='gini',\n",
       "            max_depth=None, max_features='auto', max_leaf_nodes=None,\n",
       "            min_impurity_split=1e-07, min_samples_leaf=1,\n",
       "            min_samples_split=2, min_weight_fraction_leaf=0.0,\n",
       "            n_estimators=20, n_jobs=1, oob_score=False, random_state=None,\n",
       "            verbose=0, warm_start=False)"
      ]
     },
     "execution_count": 34,
     "metadata": {},
     "output_type": "execute_result"
    }
   ],
   "source": [
    "# Create Train/Test data\n",
    "X_train, X_test, y_train, y_test = train_test_split(X_total_tf, y_total, test_size=0.8)\n",
    "\n",
    "# Set RFC with parameters indentified in gridsearching from hail idenification modelling\n",
    "rfc_total = RandomForestClassifier(bootstrap=True, class_weight=None, criterion='gini',\n",
    "            max_depth=None, max_features='auto', max_leaf_nodes=None,\n",
    "            min_impurity_split=1e-07, min_samples_leaf=1,\n",
    "            min_samples_split=2, min_weight_fraction_leaf=0.0,\n",
    "            n_estimators=20, n_jobs=1, oob_score=False, random_state=None,\n",
    "            verbose=0, warm_start=False)\n",
    "\n",
    "rfc_total.fit(X_train, y_train)"
   ]
  },
  {
   "cell_type": "code",
   "execution_count": 35,
   "metadata": {
    "collapsed": false,
    "deletable": true,
    "editable": true
   },
   "outputs": [
    {
     "name": "stdout",
     "output_type": "stream",
     "text": [
      "[ 0.96542969  0.96538086  0.96366833  0.96386189  0.96493627]\n",
      "0.964655407531\n"
     ]
    }
   ],
   "source": [
    "# Evaluate scores of RFC test set\n",
    "rfc_scores = cross_val_score(rfc_total, X_test, y_test, cv=5)\n",
    "\n",
    "print (rfc_scores)\n",
    "print (sum(rfc_scores)/len(rfc_scores))"
   ]
  },
  {
   "cell_type": "code",
   "execution_count": 36,
   "metadata": {
    "collapsed": false,
    "deletable": true,
    "editable": true
   },
   "outputs": [
    {
     "data": {
      "text/html": [
       "<div>\n",
       "<table border=\"1\" class=\"dataframe\">\n",
       "  <thead>\n",
       "    <tr style=\"text-align: right;\">\n",
       "      <th></th>\n",
       "      <th>pred_eq</th>\n",
       "      <th>pred_hail</th>\n",
       "      <th>pred_no</th>\n",
       "    </tr>\n",
       "  </thead>\n",
       "  <tbody>\n",
       "    <tr>\n",
       "      <th>eq</th>\n",
       "      <td>3506</td>\n",
       "      <td>4</td>\n",
       "      <td>908</td>\n",
       "    </tr>\n",
       "    <tr>\n",
       "      <th>hail</th>\n",
       "      <td>0</td>\n",
       "      <td>1627</td>\n",
       "      <td>2260</td>\n",
       "    </tr>\n",
       "    <tr>\n",
       "      <th>no cat</th>\n",
       "      <td>413</td>\n",
       "      <td>386</td>\n",
       "      <td>93288</td>\n",
       "    </tr>\n",
       "  </tbody>\n",
       "</table>\n",
       "</div>"
      ],
      "text/plain": [
       "        pred_eq  pred_hail  pred_no\n",
       "eq         3506          4      908\n",
       "hail          0       1627     2260\n",
       "no cat      413        386    93288"
      ]
     },
     "execution_count": 36,
     "metadata": {},
     "output_type": "execute_result"
    }
   ],
   "source": [
    "# Create predicted y values\n",
    "\n",
    "yhat_test_rfc = rfc_total.predict(X_test)\n",
    "yhat_test_rfc_pp = rfc_total.predict_proba(X_test)\n",
    "\n",
    "# convert the predicted and actual values to a confusion array\n",
    "\n",
    "confusion_array_rfc = confusion_matrix(y_test, yhat_test_rfc, labels=[2,1,0])\n",
    "\n",
    "confusion_rfc = pd.DataFrame(confusion_array_rfc, index=['eq', 'hail','no catastrophe'],\n",
    "                         columns=['pred_eq','pred_hail', 'pred_no catastrophe'])\n",
    "confusion_rfc"
   ]
  },
  {
   "cell_type": "code",
   "execution_count": 42,
   "metadata": {
    "collapsed": false,
    "deletable": true,
    "editable": true,
    "scrolled": true
   },
   "outputs": [
    {
     "name": "stdout",
     "output_type": "stream",
     "text": [
      "             precision    recall  f1-score   support\n",
      "\n",
      "          0       0.97      0.99      0.98     94087\n",
      "          1       0.81      0.42      0.55      3887\n",
      "          2       0.89      0.79      0.84      4418\n",
      "\n",
      "avg / total       0.96      0.96      0.96    102392\n",
      "\n"
     ]
    }
   ],
   "source": [
    "print (classification_report(y_test, yhat_test_rfc))"
   ]
  },
  {
   "cell_type": "markdown",
   "metadata": {
    "collapsed": true,
    "deletable": true,
    "editable": true
   },
   "source": [
    "#### Earthquake Classification Summary\n",
    "\n"
   ]
  },
  {
   "cell_type": "markdown",
   "metadata": {},
   "source": [
    "---"
   ]
  },
  {
   "cell_type": "markdown",
   "metadata": {},
   "source": [
    "### Link to [Notebook 5](capstone_technical_report_5_written_report.ipynb)\n",
    "\n",
    "----"
   ]
  }
 ],
 "metadata": {
  "kernelspec": {
   "display_name": "Python 3",
   "language": "python",
   "name": "python3"
  },
  "language_info": {
   "codemirror_mode": {
    "name": "ipython",
    "version": 3
   },
   "file_extension": ".py",
   "mimetype": "text/x-python",
   "name": "python",
   "nbconvert_exporter": "python",
   "pygments_lexer": "ipython3",
   "version": "3.6.0"
  }
 },
 "nbformat": 4,
 "nbformat_minor": 2
}
