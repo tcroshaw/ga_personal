{
 "cells": [
  {
   "cell_type": "markdown",
   "metadata": {
    "deletable": true,
    "editable": true
   },
   "source": [
    "## Technical Report Notebook 3 - Testing\n",
    "\n",
    "### Hail Modelling and Algorithm Investigation"
   ]
  },
  {
   "cell_type": "code",
   "execution_count": 3,
   "metadata": {
    "collapsed": false,
    "deletable": true,
    "editable": true
   },
   "outputs": [],
   "source": [
    "# Import modelling libraries\n",
    "\n",
    "import pandas as pd\n",
    "import numpy as np\n",
    "import seaborn as sns\n",
    "import matplotlib.pyplot as plt\n",
    "from sklearn.linear_model import LogisticRegression, SGDClassifier\n",
    "from sklearn.tree import DecisionTreeClassifier\n",
    "from sklearn.model_selection import GridSearchCV, cross_val_score, train_test_split\n",
    "from sklearn.preprocessing import StandardScaler\n",
    "from sklearn.metrics import classification_report, confusion_matrix, precision_score, recall_score, accuracy_score\n",
    "from sklearn.decomposition import PCA\n",
    "\n",
    "%matplotlib inline\n",
    "%config InlineBackend.figure_format = 'retina'"
   ]
  },
  {
   "cell_type": "code",
   "execution_count": 4,
   "metadata": {
    "collapsed": false,
    "deletable": true,
    "editable": true
   },
   "outputs": [],
   "source": [
    "# Reading in data \n",
    "\n",
    "hail_tweet_text = pd.read_csv(\"./hail_tweet_text.csv\")\n",
    "hail_tweet_text.drop('Unnamed: 0',axis=1,inplace=True)"
   ]
  },
  {
   "cell_type": "markdown",
   "metadata": {
    "deletable": true,
    "editable": true
   },
   "source": [
    "### Create Hail Class"
   ]
  },
  {
   "cell_type": "code",
   "execution_count": 5,
   "metadata": {
    "collapsed": false,
    "deletable": true,
    "editable": true
   },
   "outputs": [],
   "source": [
    "# Create hail class for classification analysis\n",
    "\n",
    "hail_tweet_text['hail_class'] = 0\n",
    "\n",
    "hail_tweet_text.ix[hail_tweet_text['hail'] >= 1, 'hail_class'] = 1\n",
    "hail_tweet_text.ix[hail_tweet_text['hailstorm'] >= 1, 'hail_class'] = 1\n",
    "\n",
    "hail_tweet_text_bris = hail_tweet_text[hail_tweet_text['Cat_ID'] == 144]\n",
    "hail_tweet_text_syd = hail_tweet_text[hail_tweet_text['Cat_ID'] == 154]"
   ]
  },
  {
   "cell_type": "code",
   "execution_count": 6,
   "metadata": {
    "collapsed": true,
    "deletable": true,
    "editable": true
   },
   "outputs": [],
   "source": [
    "# Create subsets of data for train/testing"
   ]
  },
  {
   "cell_type": "code",
   "execution_count": 7,
   "metadata": {
    "collapsed": false,
    "deletable": true,
    "editable": true
   },
   "outputs": [
    {
     "name": "stdout",
     "output_type": "stream",
     "text": [
      "(127989, 1002)\n",
      "(46529, 1002)\n",
      "(81460, 1002)\n"
     ]
    }
   ],
   "source": [
    "htt_total = hail_tweet_text.ix[:,26:]\n",
    "print (htt_total.shape)\n",
    "htt_bris = hail_tweet_text_bris.ix[:,26:]\n",
    "print (htt_bris.shape)\n",
    "htt_syd = hail_tweet_text_syd.ix[:,26:]\n",
    "print (htt_syd.shape)\n",
    "\n",
    "y_total = htt_total.hail_class\n",
    "y_bris = htt_bris.hail_class\n",
    "y_syd = htt_syd.hail_class"
   ]
  },
  {
   "cell_type": "code",
   "execution_count": 8,
   "metadata": {
    "collapsed": false,
    "deletable": true,
    "editable": true
   },
   "outputs": [],
   "source": [
    "htt_total.drop(htt_total[['sydney','sydneystorm','brisbane','brisbanestorm','hail','hailstorm','hail_class']], axis=1, inplace=True)\n",
    "htt_bris.drop(htt_bris[['sydney','sydneystorm','brisbane','brisbanestorm','hail','hailstorm','hail_class']], axis=1, inplace=True)\n",
    "htt_syd.drop(htt_syd[['sydney','sydneystorm','brisbane','brisbanestorm','hail','hailstorm','hail_class']], axis=1, inplace=True)"
   ]
  },
  {
   "cell_type": "code",
   "execution_count": 9,
   "metadata": {
    "collapsed": false,
    "deletable": true,
    "editable": true
   },
   "outputs": [],
   "source": [
    "ss = StandardScaler()\n",
    "\n",
    "Xs_htt_total = ss.fit_transform(htt_total)\n",
    "Xs_htt_bris = ss.fit_transform(htt_bris)\n",
    "Xs_htt_syd = ss.fit_transform(htt_syd)"
   ]
  },
  {
   "cell_type": "markdown",
   "metadata": {
    "deletable": true,
    "editable": true
   },
   "source": [
    "## Principle Component Analysis"
   ]
  },
  {
   "cell_type": "code",
   "execution_count": 10,
   "metadata": {
    "collapsed": false,
    "deletable": true,
    "editable": true
   },
   "outputs": [
    {
     "data": {
      "text/plain": [
       "PCA(copy=True, iterated_power='auto', n_components=None, random_state=None,\n",
       "  svd_solver='auto', tol=0.0, whiten=False)"
      ]
     },
     "execution_count": 10,
     "metadata": {},
     "output_type": "execute_result"
    }
   ],
   "source": [
    "# PCA On Full Dataset Set\n",
    "\n",
    "pca = PCA()\n",
    "pca.fit(Xs_htt_total)"
   ]
  },
  {
   "cell_type": "code",
   "execution_count": 11,
   "metadata": {
    "collapsed": false,
    "deletable": true,
    "editable": true
   },
   "outputs": [
    {
     "data": {
      "text/plain": [
       "0.011864892485503162"
      ]
     },
     "execution_count": 11,
     "metadata": {},
     "output_type": "execute_result"
    }
   ],
   "source": [
    "pca.explained_variance_ratio_.max()"
   ]
  },
  {
   "cell_type": "code",
   "execution_count": 12,
   "metadata": {
    "collapsed": true,
    "deletable": true,
    "editable": true
   },
   "outputs": [],
   "source": [
    "htt_pcs = pca.transform(Xs_htt_total)\n",
    "htt_pcs = pd.DataFrame(htt_pcs, \n",
    "                       columns=['PC'+str(i+1) for i in range(len(htt_total.columns))],\n",
    "                       index=htt_total.index)"
   ]
  },
  {
   "cell_type": "code",
   "execution_count": 13,
   "metadata": {
    "collapsed": false,
    "deletable": true,
    "editable": true
   },
   "outputs": [
    {
     "data": {
      "text/plain": [
       "array([     0,      1,      2, ..., 127986, 127987, 127988])"
      ]
     },
     "execution_count": 13,
     "metadata": {},
     "output_type": "execute_result"
    }
   ],
   "source": [
    "htt_pcs.index.values"
   ]
  },
  {
   "cell_type": "code",
   "execution_count": 14,
   "metadata": {
    "collapsed": false,
    "deletable": true,
    "editable": true
   },
   "outputs": [
    {
     "data": {
      "image/png": "[encoded data removed]",
      "text/plain": [
       "<matplotlib.figure.Figure at 0x10b9bf6a0>"
      ]
     },
     "metadata": {},
     "output_type": "display_data"
    }
   ],
   "source": [
    "exp_var = pca.explained_variance_ratio_\n",
    "\n",
    "fig, ax = plt.subplots(figsize=(12,10))\n",
    "ax.plot(range(1, len(exp_var)+1), exp_var, lw=2)\n",
    "ax.scatter(range(1, len(exp_var)+1), exp_var, s=120)\n",
    "ax.set_title('Explained variance pct\\n', fontsize=20)\n",
    "ax.set_xlabel('Principal Component', fontsize=16)\n",
    "ax.set_ylabel('Variance Explained (%)', fontsize=16)\n",
    "plt.xscale('log')\n",
    "plt.show()"
   ]
  },
  {
   "cell_type": "code",
   "execution_count": 15,
   "metadata": {
    "collapsed": false,
    "deletable": true,
    "editable": true
   },
   "outputs": [
    {
     "data": {
      "text/plain": [
       "[<matplotlib.lines.Line2D at 0x1447b5860>]"
      ]
     },
     "execution_count": 15,
     "metadata": {},
     "output_type": "execute_result"
    },
    {
     "data": {
      "image/png": "[encoded data removed]",
      "text/plain": [
       "<matplotlib.figure.Figure at 0x1143ae160>"
      ]
     },
     "metadata": {},
     "output_type": "display_data"
    }
   ],
   "source": [
    "fig, ax = plt.subplots(figsize=(12,10))\n",
    "var1=np.cumsum(np.round(pca.explained_variance_ratio_, decimals=4)*100)\n",
    "ax.set_title('Explained variance pct\\n', fontsize=20)\n",
    "ax.set_xlabel('Principal Component', fontsize=16)\n",
    "ax.set_ylabel('Cumulative Variance Explained (%)', fontsize=16)\n",
    "plt.plot(var1,color='red')"
   ]
  },
  {
   "cell_type": "code",
   "execution_count": 16,
   "metadata": {
    "collapsed": false,
    "deletable": true,
    "editable": true
   },
   "outputs": [
    {
     "name": "stdout",
     "output_type": "stream",
     "text": [
      "wolf        0.806483\n",
      "actually    0.351023\n",
      "warnings    0.194130\n",
      "bc          0.081956\n",
      "warning     0.060724\n",
      "tracking    0.033305\n",
      "steal       0.030616\n",
      "spring      0.023535\n",
      "big         0.023450\n",
      "starts      0.022062\n",
      "Name: PC1, dtype: float64\n",
      "-----------\n",
      "black       0.184392\n",
      "birthday    0.104094\n",
      "soar        0.102554\n",
      "solar       0.097632\n",
      "street      0.090399\n",
      "strike      0.085942\n",
      "online      0.080470\n",
      "near        0.075847\n",
      "people      0.074541\n",
      "poor        0.073281\n",
      "Name: PC2, dtype: float64\n",
      "-----------\n",
      "perxitaa    0.109993\n",
      "ninja       0.102606\n",
      "pacers      0.102115\n",
      "park        0.100281\n",
      "rainbow     0.098990\n",
      "damaged     0.095521\n",
      "pictures    0.095394\n",
      "die         0.093282\n",
      "mother      0.092254\n",
      "nov         0.091262\n",
      "Name: PC3, dtype: float64\n",
      "-----------\n",
      "beta          0.271425\n",
      "struggling    0.139754\n",
      "borno         0.136827\n",
      "straight      0.136193\n",
      "star          0.125487\n",
      "book          0.118656\n",
      "southern      0.115534\n",
      "snarls        0.114655\n",
      "brewing       0.105982\n",
      "somerset      0.103702\n",
      "Name: PC4, dtype: float64\n",
      "-----------\n",
      "movie      0.146468\n",
      "high       0.129072\n",
      "low        0.116468\n",
      "earth      0.106265\n",
      "hellish    0.105565\n",
      "feeling    0.101066\n",
      "follow     0.099715\n",
      "going      0.095340\n",
      "ground     0.093276\n",
      "gotta      0.092259\n",
      "Name: PC5, dtype: float64\n",
      "-----------\n",
      "hellish      0.134469\n",
      "internet     0.127367\n",
      "jugar        0.118845\n",
      "info         0.113559\n",
      "gemini       0.100820\n",
      "lost         0.100382\n",
      "guess        0.098790\n",
      "media        0.098094\n",
      "extensive    0.095743\n",
      "ff           0.092960\n",
      "Name: PC6, dtype: float64\n"
     ]
    }
   ],
   "source": [
    "components = pd.DataFrame(pca.components_,\n",
    "                 columns=['PC'+str(i+1) for i in range(len(htt_total.columns))],\n",
    "                 index=htt_total.columns)\n",
    "print (components['PC1'].nlargest(10))\n",
    "print (\"-----------\")\n",
    "print (components['PC2'].nlargest(10))\n",
    "print (\"-----------\")\n",
    "print (components['PC3'].nlargest(10))\n",
    "print (\"-----------\")\n",
    "print (components['PC4'].nlargest(10))\n",
    "print (\"-----------\")\n",
    "print (components['PC5'].nlargest(10))\n",
    "print (\"-----------\")\n",
    "print (components['PC6'].nlargest(10))"
   ]
  },
  {
   "cell_type": "code",
   "execution_count": 17,
   "metadata": {
    "collapsed": false,
    "deletable": true,
    "editable": true
   },
   "outputs": [
    {
     "name": "stderr",
     "output_type": "stream",
     "text": [
      "/Library/Frameworks/Python.framework/Versions/3.6/lib/python3.6/site-packages/matplotlib/axes/_axes.py:545: UserWarning: No labelled objects found. Use label='...' kwarg on individual plots.\n",
      "  warnings.warn(\"No labelled objects found. \"\n"
     ]
    },
    {
     "data": {
      "image/png": "[encoded data removed]",
      "text/plain": [
       "<matplotlib.figure.Figure at 0x140f75dd8>"
      ]
     },
     "metadata": {},
     "output_type": "display_data"
    }
   ],
   "source": [
    "fig, ax = plt.subplots(figsize=(10,8))\n",
    "ax.scatter(pca.components_[0], pca.components_[1], alpha=0.5)\n",
    "ax.scatter(pca.components_[1], pca.components_[2], alpha=0.5)\n",
    "ax.scatter(pca.components_[2], pca.components_[3], alpha=0.5)\n",
    "ax.scatter(pca.components_[3], pca.components_[4], alpha=0.5)\n",
    "ax.scatter(pca.components_[4], pca.components_[5], alpha=0.5)\n",
    "ax.scatter(pca.components_[5], pca.components_[6], alpha=0.5)\n",
    "ax.set_title('PC1 - PC6')\n",
    "ax.set_xlabel('principal component i')\n",
    "ax.set_ylabel('principal component i+1')\n",
    "ax.legend()\n",
    "plt.show()"
   ]
  },
  {
   "cell_type": "markdown",
   "metadata": {
    "deletable": true,
    "editable": true
   },
   "source": [
    "PCA Insights:\n",
    "    \n",
    "............\n"
   ]
  },
  {
   "cell_type": "markdown",
   "metadata": {
    "deletable": true,
    "editable": true
   },
   "source": [
    "## Hail Modelling\n",
    "\n",
    "Investigate classification algorithm appropriate for text classification exercises:\n",
    "    - Naive Bayes\n",
    "    - Stochastic Gradient Descent\n",
    "    - Decision Tree\n",
    "    - Random Forest (Ensemble)"
   ]
  },
  {
   "cell_type": "markdown",
   "metadata": {
    "deletable": true,
    "editable": true
   },
   "source": [
    "### Naive Bayes Classification"
   ]
  },
  {
   "cell_type": "code",
   "execution_count": 18,
   "metadata": {
    "collapsed": false,
    "deletable": true,
    "editable": true
   },
   "outputs": [
    {
     "data": {
      "text/plain": [
       "MultinomialNB(alpha=1.0, class_prior=None, fit_prior=True)"
      ]
     },
     "execution_count": 18,
     "metadata": {},
     "output_type": "execute_result"
    }
   ],
   "source": [
    "from sklearn.feature_extraction.text import TfidfTransformer\n",
    "\n",
    "from sklearn.naive_bayes import MultinomialNB\n",
    "\n",
    "tf_transformer = TfidfTransformer(use_idf=False).fit(htt_total)\n",
    "X_total_tf = tf_transformer.transform(htt_total)\n",
    "\n",
    "X_train, X_test, y_train, y_test = train_test_split(X_total_tf, y_total, test_size=0.8)\n",
    "\n",
    "mnb_tot = MultinomialNB()\n",
    "mnb_tot.fit(X_train, y_train)"
   ]
  },
  {
   "cell_type": "code",
   "execution_count": 22,
   "metadata": {
    "collapsed": false,
    "deletable": true,
    "editable": true
   },
   "outputs": [],
   "source": [
    "# Create function to print modelling results:\n",
    "\n",
    "def model_results(X,y,model):\n",
    "    \n",
    "    scores = cross_val_score(model, X, y, cv=5)\n",
    "\n",
    "    print (str(model))\n",
    "    print (\"--------\")\n",
    "    print (\"scores:\")\n",
    "    print (scores)\n",
    "    print (\"--------\")\n",
    "    print (\"avg score:\")\n",
    "    print (sum(scores)/len(scores))\n",
    "    print (\"--------\")\n",
    "    \n",
    "    yhat = model.predict(X)\n",
    "\n",
    "    # Sum all the true/false positives/negatives combinations\n",
    "\n",
    "    tp = np.sum((y == 1) & (yhat == 1))\n",
    "    fp = np.sum((y == 0) & (yhat == 1))\n",
    "    tn = np.sum((y == 0) & (yhat == 0))\n",
    "    fn = np.sum((y == 1) & (yhat == 0))\n",
    "\n",
    "    # convert the predicted and actual values to a confusion array\n",
    "\n",
    "    confusion_array = np.array(confusion_matrix(y, yhat, labels=[1,0]))\n",
    "\n",
    "    confusion = pd.DataFrame(confusion_array, index=['hail', 'no hail'],\n",
    "                         columns=['predicted_hail','predicted_no_hail'])\n",
    "    \n",
    "    \n",
    "    print (\"confusion matrix\")\n",
    "    print (confusion)\n",
    "    print (\"--------\")\n",
    "    print (\"accuracy:\", accuracy_score(y, yhat)) # accuracy = (tp + tn) / total_population)\n",
    "    print (\"false positive rate\", float(fp) / (tn + fp))\n",
    "    print (\"specificity\", float(tn) / (tn + fp))\n",
    "    print (\"--------\")\n",
    "    print (classification_report(y, yhat))\n",
    "    # Precision = True Positives / (True Positives + False Positives)"
   ]
  },
  {
   "cell_type": "code",
   "execution_count": 23,
   "metadata": {
    "collapsed": false,
    "deletable": true,
    "editable": true
   },
   "outputs": [
    {
     "name": "stdout",
     "output_type": "stream",
     "text": [
      "MultinomialNB(alpha=1.0, class_prior=None, fit_prior=True)\n",
      "--------\n",
      "scores:\n",
      "[ 0.96801602  0.96884614  0.96816251  0.96943061  0.96884309]\n",
      "--------\n",
      "avg score:\n",
      "0.968659672023\n",
      "--------\n",
      "confusion matrix\n",
      "         predicted_hail  predicted_no_hail\n",
      "hail                599               3314\n",
      "no hail              41              98438\n",
      "--------\n",
      "accuracy: 0.967233768263\n",
      "false positive rate 0.000416332416048\n",
      "specificity 0.999583667584\n",
      "--------\n",
      "             precision    recall  f1-score   support\n",
      "\n",
      "          0       0.97      1.00      0.98     98479\n",
      "          1       0.94      0.15      0.26      3913\n",
      "\n",
      "avg / total       0.97      0.97      0.96    102392\n",
      "\n"
     ]
    }
   ],
   "source": [
    "model_results(X_test,y_test,mnb_tot)"
   ]
  },
  {
   "cell_type": "code",
   "execution_count": 21,
   "metadata": {
    "collapsed": false,
    "deletable": true,
    "editable": true,
    "scrolled": false
   },
   "outputs": [
    {
     "data": {
      "text/html": [
       "<div>\n",
       "<table border=\"1\" class=\"dataframe\">\n",
       "  <thead>\n",
       "    <tr style=\"text-align: right;\">\n",
       "      <th></th>\n",
       "      <th>0</th>\n",
       "      <th>1</th>\n",
       "    </tr>\n",
       "  </thead>\n",
       "  <tbody>\n",
       "    <tr>\n",
       "      <th>sentiment</th>\n",
       "      <td>-1.544925</td>\n",
       "      <td>-1.919857</td>\n",
       "    </tr>\n",
       "    <tr>\n",
       "      <th>storm</th>\n",
       "      <td>-2.477188</td>\n",
       "      <td>-2.439189</td>\n",
       "    </tr>\n",
       "    <tr>\n",
       "      <th>massive</th>\n",
       "      <td>-6.445174</td>\n",
       "      <td>-4.630863</td>\n",
       "    </tr>\n",
       "    <tr>\n",
       "      <th>severe</th>\n",
       "      <td>-6.401811</td>\n",
       "      <td>-4.699882</td>\n",
       "    </tr>\n",
       "    <tr>\n",
       "      <th>damage</th>\n",
       "      <td>-3.292459</td>\n",
       "      <td>-4.711970</td>\n",
       "    </tr>\n",
       "    <tr>\n",
       "      <th>causes</th>\n",
       "      <td>-7.194140</td>\n",
       "      <td>-4.760556</td>\n",
       "    </tr>\n",
       "    <tr>\n",
       "      <th>chaos</th>\n",
       "      <td>-8.464463</td>\n",
       "      <td>-4.761168</td>\n",
       "    </tr>\n",
       "    <tr>\n",
       "      <th>slammed</th>\n",
       "      <td>-10.290174</td>\n",
       "      <td>-4.761485</td>\n",
       "    </tr>\n",
       "    <tr>\n",
       "      <th>worst</th>\n",
       "      <td>-7.283507</td>\n",
       "      <td>-4.828642</td>\n",
       "    </tr>\n",
       "    <tr>\n",
       "      <th>rain</th>\n",
       "      <td>-5.346500</td>\n",
       "      <td>-4.847939</td>\n",
       "    </tr>\n",
       "    <tr>\n",
       "      <th>hit</th>\n",
       "      <td>-6.244409</td>\n",
       "      <td>-4.849957</td>\n",
       "    </tr>\n",
       "    <tr>\n",
       "      <th>super</th>\n",
       "      <td>-7.455345</td>\n",
       "      <td>-4.882152</td>\n",
       "    </tr>\n",
       "    <tr>\n",
       "      <th>ball</th>\n",
       "      <td>-6.083207</td>\n",
       "      <td>-4.922622</td>\n",
       "    </tr>\n",
       "    <tr>\n",
       "      <th>golf</th>\n",
       "      <td>-6.781437</td>\n",
       "      <td>-4.956322</td>\n",
       "    </tr>\n",
       "    <tr>\n",
       "      <th>australia</th>\n",
       "      <td>-7.591741</td>\n",
       "      <td>-4.977573</td>\n",
       "    </tr>\n",
       "    <tr>\n",
       "      <th>weather</th>\n",
       "      <td>-5.815154</td>\n",
       "      <td>-5.040782</td>\n",
       "    </tr>\n",
       "    <tr>\n",
       "      <th>sized</th>\n",
       "      <td>-9.131379</td>\n",
       "      <td>-5.120501</td>\n",
       "    </tr>\n",
       "    <tr>\n",
       "      <th>thunder</th>\n",
       "      <td>-3.304062</td>\n",
       "      <td>-5.123325</td>\n",
       "    </tr>\n",
       "    <tr>\n",
       "      <th>lightning</th>\n",
       "      <td>-3.586217</td>\n",
       "      <td>-5.137398</td>\n",
       "    </tr>\n",
       "    <tr>\n",
       "      <th>winds</th>\n",
       "      <td>-7.712563</td>\n",
       "      <td>-5.232462</td>\n",
       "    </tr>\n",
       "  </tbody>\n",
       "</table>\n",
       "</div>"
      ],
      "text/plain": [
       "                   0         1\n",
       "sentiment  -1.544925 -1.919857\n",
       "storm      -2.477188 -2.439189\n",
       "massive    -6.445174 -4.630863\n",
       "severe     -6.401811 -4.699882\n",
       "damage     -3.292459 -4.711970\n",
       "causes     -7.194140 -4.760556\n",
       "chaos      -8.464463 -4.761168\n",
       "slammed   -10.290174 -4.761485\n",
       "worst      -7.283507 -4.828642\n",
       "rain       -5.346500 -4.847939\n",
       "hit        -6.244409 -4.849957\n",
       "super      -7.455345 -4.882152\n",
       "ball       -6.083207 -4.922622\n",
       "golf       -6.781437 -4.956322\n",
       "australia  -7.591741 -4.977573\n",
       "weather    -5.815154 -5.040782\n",
       "sized      -9.131379 -5.120501\n",
       "thunder    -3.304062 -5.123325\n",
       "lightning  -3.586217 -5.137398\n",
       "winds      -7.712563 -5.232462"
      ]
     },
     "execution_count": 21,
     "metadata": {},
     "output_type": "execute_result"
    }
   ],
   "source": [
    "mb_coefficients = pd.DataFrame(data=mnb_tot.feature_log_prob_,columns=htt_total.columns)\n",
    "mb_coefficients = mb_coefficients.T\n",
    "mb_coefficients.sort_values(1, ascending=False, inplace=True)\n",
    "mb_coefficients.head(20)"
   ]
  },
  {
   "cell_type": "markdown",
   "metadata": {
    "deletable": true,
    "editable": true
   },
   "source": [
    "### Stochastic Gradient Descent Classification"
   ]
  },
  {
   "cell_type": "code",
   "execution_count": 26,
   "metadata": {
    "collapsed": false,
    "deletable": true,
    "editable": true
   },
   "outputs": [
    {
     "name": "stdout",
     "output_type": "stream",
     "text": [
      "Fitting 5 folds for each of 12 candidates, totalling 60 fits\n",
      "{'alpha': 0.0001, 'n_iter': 10, 'penalty': 'l2'}\n"
     ]
    },
    {
     "name": "stderr",
     "output_type": "stream",
     "text": [
      "[Parallel(n_jobs=1)]: Done  60 out of  60 | elapsed:    8.1s finished\n"
     ]
    }
   ],
   "source": [
    "parameters = {\n",
    "    'alpha': (0.0001, 0.000001),\n",
    "    'penalty': ('l2', 'elasticnet'),\n",
    "    'n_iter': (10, 50, 80),\n",
    "}\n",
    "\n",
    "sgd = SGDClassifier(loss='modified_huber')\n",
    "\n",
    "sgd_gs = GridSearchCV(sgd, parameters, cv=5, verbose=1, refit=True)\n",
    "\n",
    "sgd_gs.fit(X_train, y_train)\n",
    "\n",
    "print (sgd_gs.best_params_)"
   ]
  },
  {
   "cell_type": "code",
   "execution_count": 27,
   "metadata": {
    "collapsed": false,
    "deletable": true,
    "editable": true
   },
   "outputs": [
    {
     "name": "stderr",
     "output_type": "stream",
     "text": [
      "/Library/Frameworks/Python.framework/Versions/3.6/lib/python3.6/site-packages/ipykernel/__main__.py:7: FutureWarning: sort(columns=....) is deprecated, use sort_values(by=.....)\n"
     ]
    },
    {
     "data": {
      "text/html": [
       "<div>\n",
       "<table border=\"1\" class=\"dataframe\">\n",
       "  <thead>\n",
       "    <tr style=\"text-align: right;\">\n",
       "      <th></th>\n",
       "      <th>coefficient</th>\n",
       "      <th>feature</th>\n",
       "    </tr>\n",
       "  </thead>\n",
       "  <tbody>\n",
       "    <tr>\n",
       "      <th>757</th>\n",
       "      <td>2.791777</td>\n",
       "      <td>sized</td>\n",
       "    </tr>\n",
       "    <tr>\n",
       "      <th>761</th>\n",
       "      <td>2.412927</td>\n",
       "      <td>slammed</td>\n",
       "    </tr>\n",
       "    <tr>\n",
       "      <th>141</th>\n",
       "      <td>2.391309</td>\n",
       "      <td>chaos</td>\n",
       "    </tr>\n",
       "    <tr>\n",
       "      <th>441</th>\n",
       "      <td>2.081813</td>\n",
       "      <td>large</td>\n",
       "    </tr>\n",
       "    <tr>\n",
       "      <th>756</th>\n",
       "      <td>1.993786</td>\n",
       "      <td>size</td>\n",
       "    </tr>\n",
       "    <tr>\n",
       "      <th>829</th>\n",
       "      <td>1.408600</td>\n",
       "      <td>sydneyweather</td>\n",
       "    </tr>\n",
       "    <tr>\n",
       "      <th>133</th>\n",
       "      <td>1.388735</td>\n",
       "      <td>cdt</td>\n",
       "    </tr>\n",
       "    <tr>\n",
       "      <th>582</th>\n",
       "      <td>1.358242</td>\n",
       "      <td>nsw</td>\n",
       "    </tr>\n",
       "    <tr>\n",
       "      <th>2</th>\n",
       "      <td>1.313002</td>\n",
       "      <td>abcnews</td>\n",
       "    </tr>\n",
       "    <tr>\n",
       "      <th>869</th>\n",
       "      <td>1.244586</td>\n",
       "      <td>thunderstorms</td>\n",
       "    </tr>\n",
       "  </tbody>\n",
       "</table>\n",
       "</div>"
      ],
      "text/plain": [
       "     coefficient        feature\n",
       "757     2.791777          sized\n",
       "761     2.412927        slammed\n",
       "141     2.391309          chaos\n",
       "441     2.081813          large\n",
       "756     1.993786           size\n",
       "829     1.408600  sydneyweather\n",
       "133     1.388735            cdt\n",
       "582     1.358242            nsw\n",
       "2       1.313002        abcnews\n",
       "869     1.244586  thunderstorms"
      ]
     },
     "execution_count": 27,
     "metadata": {},
     "output_type": "execute_result"
    }
   ],
   "source": [
    "best_sgd = sgd_gs.best_estimator_\n",
    "\n",
    "coef_df_overall = pd.DataFrame({\n",
    "        'coefficient':np.abs(best_sgd.coef_[0]),\n",
    "        'feature':htt_total.columns})\n",
    "\n",
    "coef_df_overall.sort('coefficient',ascending=False).head(10)"
   ]
  },
  {
   "cell_type": "code",
   "execution_count": 28,
   "metadata": {
    "collapsed": false,
    "deletable": true,
    "editable": true
   },
   "outputs": [
    {
     "name": "stdout",
     "output_type": "stream",
     "text": [
      "Fitting 5 folds for each of 12 candidates, totalling 60 fits\n"
     ]
    },
    {
     "name": "stderr",
     "output_type": "stream",
     "text": [
      "[Parallel(n_jobs=1)]: Done  60 out of  60 | elapsed:   41.5s finished\n"
     ]
    },
    {
     "name": "stdout",
     "output_type": "stream",
     "text": [
      "Fitting 5 folds for each of 12 candidates, totalling 60 fits\n"
     ]
    },
    {
     "name": "stderr",
     "output_type": "stream",
     "text": [
      "[Parallel(n_jobs=1)]: Done  60 out of  60 | elapsed:   41.3s finished\n"
     ]
    },
    {
     "name": "stdout",
     "output_type": "stream",
     "text": [
      "Fitting 5 folds for each of 12 candidates, totalling 60 fits\n"
     ]
    },
    {
     "name": "stderr",
     "output_type": "stream",
     "text": [
      "[Parallel(n_jobs=1)]: Done  60 out of  60 | elapsed:   45.0s finished\n"
     ]
    },
    {
     "name": "stdout",
     "output_type": "stream",
     "text": [
      "Fitting 5 folds for each of 12 candidates, totalling 60 fits\n"
     ]
    },
    {
     "name": "stderr",
     "output_type": "stream",
     "text": [
      "[Parallel(n_jobs=1)]: Done  60 out of  60 | elapsed:   39.0s finished\n"
     ]
    },
    {
     "name": "stdout",
     "output_type": "stream",
     "text": [
      "Fitting 5 folds for each of 12 candidates, totalling 60 fits\n"
     ]
    },
    {
     "name": "stderr",
     "output_type": "stream",
     "text": [
      "[Parallel(n_jobs=1)]: Done  60 out of  60 | elapsed:   48.8s finished\n"
     ]
    },
    {
     "name": "stdout",
     "output_type": "stream",
     "text": [
      "GridSearchCV(cv=5, error_score='raise',\n",
      "       estimator=SGDClassifier(alpha=0.0001, average=False, class_weight=None, epsilon=0.1,\n",
      "       eta0=0.0, fit_intercept=True, l1_ratio=0.15,\n",
      "       learning_rate='optimal', loss='modified_huber', n_iter=5, n_jobs=1,\n",
      "       penalty='l2', power_t=0.5, random_state=None, shuffle=True,\n",
      "       verbose=0, warm_start=False),\n",
      "       fit_params={}, iid=True, n_jobs=1,\n",
      "       param_grid={'alpha': (0.0001, 1e-06), 'penalty': ('l2', 'elasticnet'), 'n_iter': (10, 50, 80)},\n",
      "       pre_dispatch='2*n_jobs', refit=True, return_train_score=True,\n",
      "       scoring=None, verbose=1)\n",
      "--------\n",
      "scores:\n",
      "[ 0.96933444  0.97021339  0.96918795  0.97021193  0.96986863]\n",
      "--------\n",
      "avg score:\n",
      "0.969763269195\n",
      "--------\n",
      "confusion matrix\n",
      "         predicted_hail  predicted_no_hail\n",
      "hail               1170               2743\n",
      "no hail             301              98178\n",
      "--------\n",
      "accuracy: 0.970271114931\n",
      "false positive rate 0.00305648920074\n",
      "specificity 0.996943510799\n",
      "--------\n",
      "             precision    recall  f1-score   support\n",
      "\n",
      "          0       0.97      1.00      0.98     98479\n",
      "          1       0.80      0.30      0.43      3913\n",
      "\n",
      "avg / total       0.97      0.97      0.96    102392\n",
      "\n"
     ]
    }
   ],
   "source": [
    "model_results(X_test,y_test,sgd_gs)"
   ]
  },
  {
   "cell_type": "markdown",
   "metadata": {
    "deletable": true,
    "editable": true
   },
   "source": [
    "### Decision Tree Classification"
   ]
  },
  {
   "cell_type": "code",
   "execution_count": 29,
   "metadata": {
    "collapsed": false,
    "deletable": true,
    "editable": true
   },
   "outputs": [
    {
     "name": "stdout",
     "output_type": "stream",
     "text": [
      "Fitting 5 folds for each of 847 candidates, totalling 4235 fits\n",
      "{'max_depth': 10, 'max_features': None, 'min_samples_split': 3}\n"
     ]
    },
    {
     "name": "stderr",
     "output_type": "stream",
     "text": [
      "[Parallel(n_jobs=1)]: Done 4235 out of 4235 | elapsed:  3.3min finished\n"
     ]
    }
   ],
   "source": [
    "# Decision Tree gridsearch to get the optimal decision tree model\n",
    "\n",
    "dtc_params = {\n",
    "    'max_depth':[None,1,2,3,4,5,6,7,8,9,10],\n",
    "    'max_features':[None,'log2','sqrt',2,3,4,5],\n",
    "    'min_samples_split':[2,3,4,5,10,15,20,25,30,40,50]}\n",
    "\n",
    "from sklearn.model_selection import GridSearchCV\n",
    "\n",
    "dtc = DecisionTreeClassifier()\n",
    "dtc_gs = GridSearchCV(dtc, dtc_params, cv=5, verbose=1, refit=True)\n",
    "\n",
    "dtc_gs.fit(X_train, y_train)\n",
    "\n",
    "dtc_best = dtc_gs.best_estimator_\n",
    "\n",
    "print (dtc_gs.best_params_)"
   ]
  },
  {
   "cell_type": "code",
   "execution_count": 30,
   "metadata": {
    "collapsed": false,
    "deletable": true,
    "editable": true
   },
   "outputs": [
    {
     "data": {
      "text/plain": [
       "DecisionTreeClassifier(class_weight=None, criterion='gini', max_depth=10,\n",
       "            max_features=None, max_leaf_nodes=None,\n",
       "            min_impurity_split=1e-07, min_samples_leaf=1,\n",
       "            min_samples_split=5, min_weight_fraction_leaf=0.0,\n",
       "            presort=False, random_state=None, splitter='best')"
      ]
     },
     "execution_count": 30,
     "metadata": {},
     "output_type": "execute_result"
    }
   ],
   "source": [
    "dtr_ds = DecisionTreeClassifier(max_features=None,min_samples_split=5,max_depth=10)\n",
    "\n",
    "dtr_ds.fit(X_train, y_train)"
   ]
  },
  {
   "cell_type": "code",
   "execution_count": 31,
   "metadata": {
    "collapsed": false,
    "deletable": true,
    "editable": true
   },
   "outputs": [
    {
     "data": {
      "text/html": [
       "<div>\n",
       "<table border=\"1\" class=\"dataframe\">\n",
       "  <thead>\n",
       "    <tr style=\"text-align: right;\">\n",
       "      <th></th>\n",
       "      <th>feature</th>\n",
       "      <th>importance</th>\n",
       "    </tr>\n",
       "  </thead>\n",
       "  <tbody>\n",
       "    <tr>\n",
       "      <th>761</th>\n",
       "      <td>slammed</td>\n",
       "      <td>0.182331</td>\n",
       "    </tr>\n",
       "    <tr>\n",
       "      <th>141</th>\n",
       "      <td>chaos</td>\n",
       "      <td>0.158512</td>\n",
       "    </tr>\n",
       "    <tr>\n",
       "      <th>757</th>\n",
       "      <td>sized</td>\n",
       "      <td>0.118962</td>\n",
       "    </tr>\n",
       "    <tr>\n",
       "      <th>441</th>\n",
       "      <td>large</td>\n",
       "      <td>0.072241</td>\n",
       "    </tr>\n",
       "    <tr>\n",
       "      <th>756</th>\n",
       "      <td>size</td>\n",
       "      <td>0.070478</td>\n",
       "    </tr>\n",
       "    <tr>\n",
       "      <th>994</th>\n",
       "      <td>sentiment</td>\n",
       "      <td>0.068787</td>\n",
       "    </tr>\n",
       "    <tr>\n",
       "      <th>131</th>\n",
       "      <td>causes</td>\n",
       "      <td>0.049705</td>\n",
       "    </tr>\n",
       "    <tr>\n",
       "      <th>2</th>\n",
       "      <td>abcnews</td>\n",
       "      <td>0.033198</td>\n",
       "    </tr>\n",
       "    <tr>\n",
       "      <th>41</th>\n",
       "      <td>australia</td>\n",
       "      <td>0.032739</td>\n",
       "    </tr>\n",
       "    <tr>\n",
       "      <th>829</th>\n",
       "      <td>sydneyweather</td>\n",
       "      <td>0.032684</td>\n",
       "    </tr>\n",
       "  </tbody>\n",
       "</table>\n",
       "</div>"
      ],
      "text/plain": [
       "           feature  importance\n",
       "761        slammed    0.182331\n",
       "141          chaos    0.158512\n",
       "757          sized    0.118962\n",
       "441          large    0.072241\n",
       "756           size    0.070478\n",
       "994      sentiment    0.068787\n",
       "131         causes    0.049705\n",
       "2          abcnews    0.033198\n",
       "41       australia    0.032739\n",
       "829  sydneyweather    0.032684"
      ]
     },
     "execution_count": 31,
     "metadata": {},
     "output_type": "execute_result"
    }
   ],
   "source": [
    "# Extract the top features from the decision tree classifier.\n",
    "\n",
    "top_features_DS = pd.DataFrame({\n",
    "        'feature':htt_total.columns,\n",
    "        'importance':dtr_ds.feature_importances_})\n",
    "\n",
    "top_features_DS.sort_values('importance', ascending=False, inplace=True)\n",
    "top_features_DS.head(10)"
   ]
  },
  {
   "cell_type": "code",
   "execution_count": 32,
   "metadata": {
    "collapsed": false,
    "deletable": true,
    "editable": true
   },
   "outputs": [
    {
     "name": "stdout",
     "output_type": "stream",
     "text": [
      "DecisionTreeClassifier(class_weight=None, criterion='gini', max_depth=10,\n",
      "            max_features=None, max_leaf_nodes=None,\n",
      "            min_impurity_split=1e-07, min_samples_leaf=1,\n",
      "            min_samples_split=5, min_weight_fraction_leaf=0.0,\n",
      "            presort=False, random_state=None, splitter='best')\n",
      "--------\n",
      "scores:\n",
      "[ 0.9694321   0.97060403  0.96913912  0.9708956   0.97006397]\n",
      "--------\n",
      "avg score:\n",
      "0.970026964437\n",
      "--------\n",
      "confusion matrix\n",
      "         predicted_hail  predicted_no_hail\n",
      "hail                941               2972\n",
      "no hail             240              98239\n",
      "--------\n",
      "accuracy: 0.968630361747\n",
      "false positive rate 0.00243706780126\n",
      "specificity 0.997562932199\n",
      "--------\n",
      "             precision    recall  f1-score   support\n",
      "\n",
      "          0       0.97      1.00      0.98     98479\n",
      "          1       0.80      0.24      0.37      3913\n",
      "\n",
      "avg / total       0.96      0.97      0.96    102392\n",
      "\n"
     ]
    }
   ],
   "source": [
    "model_results(X_test,y_test,dtr_ds)"
   ]
  },
  {
   "cell_type": "markdown",
   "metadata": {
    "deletable": true,
    "editable": true
   },
   "source": [
    "### Random Forest Classification"
   ]
  },
  {
   "cell_type": "code",
   "execution_count": 24,
   "metadata": {
    "collapsed": false,
    "deletable": true,
    "editable": true
   },
   "outputs": [
    {
     "data": {
      "text/plain": [
       "{'bootstrap': False,\n",
       " 'criterion': 'gini',\n",
       " 'max_depth': None,\n",
       " 'max_features': 1,\n",
       " 'min_samples_leaf': 1,\n",
       " 'min_samples_split': 3}"
      ]
     },
     "execution_count": 24,
     "metadata": {},
     "output_type": "execute_result"
    }
   ],
   "source": [
    "from sklearn.ensemble import RandomForestClassifier\n",
    "\n",
    "# build a classifier\n",
    "rfc = RandomForestClassifier(n_estimators=20)\n",
    "\n",
    "# use a full grid over all parameters\n",
    "param_grid = {\"max_depth\": [3, None],\n",
    "              \"max_features\": [1, 3, 10],\n",
    "              \"min_samples_split\": [2, 3, 10],\n",
    "              \"min_samples_leaf\": [1, 3, 10],\n",
    "              \"bootstrap\": [True, False],\n",
    "              \"criterion\": [\"gini\", \"entropy\"]}\n",
    "\n",
    "# run grid search\n",
    "rfc_gs = GridSearchCV(rfc, param_grid=param_grid)\n",
    "\n",
    "rfc_gs.fit(X_train, y_train)\n",
    "\n",
    "rfc_gs.best_params_"
   ]
  },
  {
   "cell_type": "code",
   "execution_count": 25,
   "metadata": {
    "collapsed": false,
    "deletable": true,
    "editable": true
   },
   "outputs": [
    {
     "name": "stdout",
     "output_type": "stream",
     "text": [
      "GridSearchCV(cv=None, error_score='raise',\n",
      "       estimator=RandomForestClassifier(bootstrap=True, class_weight=None, criterion='gini',\n",
      "            max_depth=None, max_features='auto', max_leaf_nodes=None,\n",
      "            min_impurity_split=1e-07, min_samples_leaf=1,\n",
      "            min_samples_split=2, min_weight_fraction_leaf=0.0,\n",
      "            n_estimators=20, n_jobs=1, oob_score=False, random_state=None,\n",
      "            verbose=0, warm_start=False),\n",
      "       fit_params={}, iid=True, n_jobs=1,\n",
      "       param_grid={'max_depth': [3, None], 'max_features': [1, 3, 10], 'min_samples_split': [2, 3, 10], 'min_samples_leaf': [1, 3, 10], 'bootstrap': [True, False], 'criterion': ['gini', 'entropy']},\n",
      "       pre_dispatch='2*n_jobs', refit=True, return_train_score=True,\n",
      "       scoring=None, verbose=0)\n",
      "--------\n",
      "scores:\n",
      "[ 0.97236193  0.97304556  0.97314322  0.9741674   0.97226156]\n",
      "--------\n",
      "avg score:\n",
      "0.972995934279\n",
      "--------\n",
      "confusion matrix\n",
      "         predicted_hail  predicted_no_hail\n",
      "hail               1045               2868\n",
      "no hail             234              98245\n",
      "--------\n",
      "accuracy: 0.969704664427\n",
      "false positive rate 0.00237614110623\n",
      "specificity 0.997623858894\n",
      "--------\n",
      "             precision    recall  f1-score   support\n",
      "\n",
      "          0       0.97      1.00      0.98     98479\n",
      "          1       0.82      0.27      0.40      3913\n",
      "\n",
      "avg / total       0.97      0.97      0.96    102392\n",
      "\n"
     ]
    }
   ],
   "source": [
    "model_results(X_test,y_test,rfc_gs)"
   ]
  },
  {
   "cell_type": "markdown",
   "metadata": {
    "deletable": true,
    "editable": true
   },
   "source": [
    "#### Plot all ROC Curves for models"
   ]
  },
  {
   "cell_type": "code",
   "execution_count": null,
   "metadata": {
    "collapsed": false,
    "deletable": true,
    "editable": true
   },
   "outputs": [],
   "source": [
    "# Plot the ROC curve:\n",
    "\n",
    "from sklearn.metrics import roc_curve, auc\n",
    "\n",
    "yhat_mnb = mnb_tot.predict_proba(X_test)\n",
    "yhat_sgd = sgd_gs.predict_proba(X_test)\n",
    "yhat_dtc = dtr_ds.predict_proba(X_test)\n",
    "yhat_rfc = rfc_gs.predict_proba(X_test)\n",
    "\n",
    "# naive bayes roc/auc calculation\n",
    "fpr_mnb, tpr_mnb, _ = roc_curve(y_test, yhat_mnb[:,1])\n",
    "roc_auc_mnb = auc(fpr_mnb, tpr_mnb)\n",
    "\n",
    "# sgd roc/auc calculation\n",
    "fpr_sgd, tpr_sgd, _ = roc_curve(y_test, yhat_sgd[:,1])\n",
    "roc_auc_sgd = auc(fpr_dtc, tpr_dtc)\n",
    "\n",
    "# decision tree roc/auc calculation\n",
    "fpr_dtc, tpr_dtc, _ = roc_curve(y_test, yhat_dtc[:,1])\n",
    "roc_auc_dtc = auc(fpr_dtc, tpr_dtc)\n",
    "\n",
    "# random forest roc/auc calculation\n",
    "fpr_rfc, tpr_rfc, _ = roc_curve(y_test, yhat_rfc[:,1])\n",
    "roc_auc_rfc = auc(fpr_rfc, tpr_rfc)\n",
    "\n",
    "plt.figure(figsize=[12,12])\n",
    "\n",
    "plt.plot(fpr_mnb, tpr_mnb, label='mnb' % roc_auc_mnb, linewidth=4)\n",
    "plt.plot(fpr_sgd, tpr_sgd, label='sgd' % roc_auc_sgd, linewidth=4)\n",
    "plt.plot(fpr_dtc, tpr_dtc, label='dtc' % roc_auc_dtc, linewidth=4)\n",
    "plt.plot(fpr_rfc, tpr_rfc, label='rfc' % roc_auc_rfc, linewidth=4)\n",
    "\n",
    "plt.plot([0, 1], [0, 1], 'k--', linewidth=4)\n",
    "plt.xlim([-0.05, 1.0])\n",
    "plt.ylim([-0.05, 1.05])\n",
    "plt.xlabel('False Positive Rate', fontsize=15)\n",
    "plt.ylabel('True Positive Rate', fontsize=15)\n",
    "plt.title('Receiver operating characteristic: hail class', fontsize=15)\n",
    "plt.legend(loc=\"lower right\")\n",
    "plt.show()"
   ]
  },
  {
   "cell_type": "markdown",
   "metadata": {
    "deletable": true,
    "editable": true
   },
   "source": [
    "###  Random Forest Classification \n",
    "\n",
    "Determining optimal hyperparameters using full dataset"
   ]
  },
  {
   "cell_type": "code",
   "execution_count": 34,
   "metadata": {
    "collapsed": false
   },
   "outputs": [
    {
     "data": {
      "text/plain": [
       "GridSearchCV(cv=None, error_score='raise',\n",
       "       estimator=RandomForestClassifier(bootstrap=True, class_weight=None, criterion='gini',\n",
       "            max_depth=None, max_features='auto', max_leaf_nodes=None,\n",
       "            min_impurity_split=1e-07, min_samples_leaf=1,\n",
       "            min_samples_split=2, min_weight_fraction_leaf=0.0,\n",
       "            n_estimators=20, n_jobs=1, oob_score=False, random_state=None,\n",
       "            verbose=0, warm_start=False),\n",
       "       fit_params={}, iid=True, n_jobs=1,\n",
       "       param_grid={'max_depth': [3, None], 'max_features': [1, 3, 10], 'min_samples_split': [2, 3, 10], 'min_samples_leaf': [1, 3, 10], 'bootstrap': [True, False], 'criterion': ['gini', 'entropy']},\n",
       "       pre_dispatch='2*n_jobs', refit=True, return_train_score=True,\n",
       "       scoring=None, verbose=0)"
      ]
     },
     "execution_count": 34,
     "metadata": {},
     "output_type": "execute_result"
    }
   ],
   "source": [
    "from sklearn.ensemble import RandomForestClassifier\n",
    "from sklearn.model_selection import GridSearchCV\n",
    "\n",
    "# build a classifier\n",
    "rfc = RandomForestClassifier(n_estimators=20)\n",
    "\n",
    "# use a full grid over all parameters\n",
    "param_grid = {\"max_depth\": [3, None],\n",
    "              \"max_features\": [1, 3, 10],\n",
    "              \"min_samples_split\": [2, 3, 10],\n",
    "              \"min_samples_leaf\": [1, 3, 10],\n",
    "              \"bootstrap\": [True, False],\n",
    "              \"criterion\": [\"gini\", \"entropy\"]}\n",
    "\n",
    "# run grid search\n",
    "rfc_gs = GridSearchCV(rfc, param_grid=param_grid)\n",
    "\n",
    "rfc_gs.fit(X_total_tf, y_total)"
   ]
  },
  {
   "cell_type": "code",
   "execution_count": 39,
   "metadata": {
    "collapsed": false
   },
   "outputs": [
    {
     "data": {
      "text/plain": [
       "0.96816132636398444"
      ]
     },
     "execution_count": 39,
     "metadata": {},
     "output_type": "execute_result"
    }
   ],
   "source": [
    "rfc_gs.best_score_"
   ]
  },
  {
   "cell_type": "code",
   "execution_count": 38,
   "metadata": {
    "collapsed": false
   },
   "outputs": [
    {
     "data": {
      "text/html": [
       "<div>\n",
       "<table border=\"1\" class=\"dataframe\">\n",
       "  <thead>\n",
       "    <tr style=\"text-align: right;\">\n",
       "      <th></th>\n",
       "      <th>predicted_hail</th>\n",
       "      <th>predicted_no_hail</th>\n",
       "    </tr>\n",
       "  </thead>\n",
       "  <tbody>\n",
       "    <tr>\n",
       "      <th>hail</th>\n",
       "      <td>3202</td>\n",
       "      <td>1703</td>\n",
       "    </tr>\n",
       "    <tr>\n",
       "      <th>no hail</th>\n",
       "      <td>81</td>\n",
       "      <td>123003</td>\n",
       "    </tr>\n",
       "  </tbody>\n",
       "</table>\n",
       "</div>"
      ],
      "text/plain": [
       "         predicted_hail  predicted_no_hail\n",
       "hail               3202               1703\n",
       "no hail              81             123003"
      ]
     },
     "execution_count": 38,
     "metadata": {},
     "output_type": "execute_result"
    }
   ],
   "source": [
    "# Create predicted y values for decision tree analysis \n",
    "\n",
    "yhat_total_rfc = rfc_gs.predict(X_total_tf)\n",
    "yhat_total_rfc_pp = rfc_gs.predict_proba(X_total_tf)\n",
    "\n",
    "# Sum all the true/false positives/negatives combinations\n",
    "\n",
    "tp = np.sum((y_total == 1) & (yhat_total_rfc == 1))\n",
    "fp = np.sum((y_total == 0) & (yhat_total_rfc == 1))\n",
    "tn = np.sum((y_total == 0) & (yhat_total_rfc == 0))\n",
    "fn = np.sum((y_total == 1) & (yhat_total_rfc == 0))\n",
    "\n",
    "# convert the predicted and actual values to a confusion array\n",
    "\n",
    "confusion_array_rfc = np.array(confusion_matrix(y_total, yhat_total_rfc, labels=[1,0]))\n",
    "\n",
    "confusion_rfc = pd.DataFrame(confusion_array_rfc, index=['hail', 'no hail'],\n",
    "                         columns=['predicted_hail','predicted_no_hail'])\n",
    "confusion_rfc"
   ]
  },
  {
   "cell_type": "code",
   "execution_count": null,
   "metadata": {
    "collapsed": false,
    "deletable": true,
    "editable": true
   },
   "outputs": [],
   "source": [
    "rfc_total_bris = RandomForestClassifier(bootstrap=True, class_weight=None, criterion='gini',\n",
    "            max_depth=None, max_features='auto', max_leaf_nodes=None,\n",
    "            min_impurity_split=1e-07, min_samples_leaf=1,\n",
    "            min_samples_split=2, min_weight_fraction_leaf=0.0,\n",
    "            n_estimators=20, n_jobs=1, oob_score=False, random_state=None,\n",
    "            verbose=0, warm_start=False)\n",
    "\n",
    "# Extract the top features from the decision tree classifier.\n",
    "rfc_total_bris.fit(X_bris_tf, y_bris)\n",
    "\n",
    "top_features_rfc_bris = pd.DataFrame({\n",
    "        'feature':htt_total.columns,\n",
    "        'importance':rfc_total_bris.feature_importances_})\n",
    "\n",
    "top_features_rfc_bris.sort_values('importance', ascending=False, inplace=True)\n",
    "print (top_features_rfc_bris.head(20))\n",
    "\n",
    "# Create predicted y values for decision tree analysis \n",
    "\n",
    "yhat_syd_rfc = rfc_total.predict(X_syd_tf)\n",
    "yhat_syd_rfc_pp = rfc_total.predict_proba(X_syd_tf)\n",
    "\n",
    "# Sum all the true/false positives/negatives combinations\n",
    "\n",
    "tp = np.sum((y_syd == 1) & (yhat_syd_rfc == 1))\n",
    "fp = np.sum((y_syd == 0) & (yhat_syd_rfc == 1))\n",
    "tn = np.sum((y_syd == 0) & (yhat_syd_rfc == 0))\n",
    "fn = np.sum((y_syd == 1) & (yhat_syd_rfc == 0))\n",
    "\n",
    "# convert the predicted and actual values to a confusion array\n",
    "\n",
    "confusion_array_rfc_syd = np.array(confusion_matrix(y_syd, yhat_syd_rfc, labels=[1,0]))\n",
    "\n",
    "confusion_rfc_syd = pd.DataFrame(confusion_array_rfc_syd, index=['hail', 'no hail'],\n",
    "                         columns=['predicted_hail','predicted_no_hail'])\n",
    "confusion_rfc_syd"
   ]
  },
  {
   "cell_type": "code",
   "execution_count": null,
   "metadata": {
    "collapsed": false,
    "deletable": true,
    "editable": true
   },
   "outputs": [],
   "source": [
    "rfc_total_syd = RandomForestClassifier(bootstrap=True, class_weight=None, criterion='gini',\n",
    "            max_depth=None, max_features='auto', max_leaf_nodes=None,\n",
    "            min_impurity_split=1e-07, min_samples_leaf=1,\n",
    "            min_samples_split=2, min_weight_fraction_leaf=0.0,\n",
    "            n_estimators=20, n_jobs=1, oob_score=False, random_state=None,\n",
    "            verbose=0, warm_start=False)\n",
    "\n",
    "# Extract the top features from the decision tree classifier.\n",
    "rfc_total_syd.fit(X_syd_tf, y_syd)\n",
    "\n",
    "top_features_rfc_syd = pd.DataFrame({\n",
    "        'feature':htt_total.columns,\n",
    "        'importance':rfc_total_syd.feature_importances_})\n",
    "\n",
    "top_features_rfc_syd.sort_values('importance', ascending=False, inplace=True)\n",
    "print (top_features_rfc_syd.head(20))\n",
    "\n",
    "# Create predicted y values for decision tree analysis \n",
    "\n",
    "yhat_bris_rfc = rfc_total.predict(X_bris_tf)\n",
    "yhat_bris_rfc_pp = rfc_total.predict_proba(X_bris_tf)\n",
    "\n",
    "# Sum all the true/false positives/negatives combinations\n",
    "\n",
    "tp = np.sum((y_bris == 1) & (yhat_bris_rfc == 1))\n",
    "fp = np.sum((y_bris == 0) & (yhat_bris_rfc == 1))\n",
    "tn = np.sum((y_bris == 0) & (yhat_bris_rfc == 0))\n",
    "fn = np.sum((y_bris == 1) & (yhat_bris_rfc == 0))\n",
    "\n",
    "# convert the predicted and actual values to a confusion array\n",
    "\n",
    "confusion_array_rfc_bris = np.array(confusion_matrix(y_bris, yhat_bris_rfc, labels=[1,0]))\n",
    "\n",
    "confusion_rfc_bris = pd.DataFrame(confusion_array_rfc_bris, index=['hail', 'no hail'],\n",
    "                         columns=['predicted_hail','predicted_no_hail'])\n",
    "confusion_rfc_bris"
   ]
  },
  {
   "cell_type": "markdown",
   "metadata": {
    "deletable": true,
    "editable": true
   },
   "source": [
    "### Brisbane Train / Sydney Test - Random Forest Classification"
   ]
  },
  {
   "cell_type": "code",
   "execution_count": null,
   "metadata": {
    "collapsed": true,
    "deletable": true,
    "editable": true
   },
   "outputs": [],
   "source": [
    "tf_transformer_bris = TfidfTransformer(use_idf=False).fit(htt_bris)\n",
    "tf_transformer_syd = TfidfTransformer(use_idf=False).fit(htt_syd)\n",
    "X_bris_tf = tf_transformer.transform(htt_bris)\n",
    "X_syd_tf = tf_transformer.transform(htt_syd)"
   ]
  },
  {
   "cell_type": "code",
   "execution_count": null,
   "metadata": {
    "collapsed": false,
    "deletable": true,
    "editable": true
   },
   "outputs": [],
   "source": [
    "rfc_hp = RandomForestClassifier(bootstrap=True, class_weight=None, criterion='gini',\n",
    "            max_depth=None, max_features='auto', max_leaf_nodes=None,\n",
    "            min_impurity_split=1e-07, min_samples_leaf=1,\n",
    "            min_samples_split=2, min_weight_fraction_leaf=0.0,\n",
    "            n_estimators=20, n_jobs=1, oob_score=False, random_state=None,\n",
    "            verbose=0, warm_start=False)\n",
    "\n",
    "rfc_hp.fit(X_bris_tf, y_bris)\n",
    "\n",
    "rfc_hp_scores = cross_val_score(rfc_hp, X_syd_tf, y_syd, cv=5)\n",
    "\n",
    "print (rfc_hp_scores)\n",
    "print (sum(rfc_hp_scores)/len(rfc_hp_scores))"
   ]
  },
  {
   "cell_type": "code",
   "execution_count": null,
   "metadata": {
    "collapsed": false,
    "deletable": true,
    "editable": true,
    "scrolled": false
   },
   "outputs": [],
   "source": [
    "# Extract the top features from the decision tree classifier.\n",
    "\n",
    "top_features_rfc = pd.DataFrame({\n",
    "        'feature':htt_total.columns,\n",
    "        'importance':rfc_hp.feature_importances_})\n",
    "\n",
    "top_features_rfc.sort_values('importance', ascending=False, inplace=True)\n",
    "top_features_rfc.head(20)"
   ]
  },
  {
   "cell_type": "code",
   "execution_count": null,
   "metadata": {
    "collapsed": false,
    "deletable": true,
    "editable": true
   },
   "outputs": [],
   "source": [
    "# Create predicted y values for decision tree analysis \n",
    "\n",
    "yhat_syd_rfc = rfc_hp.predict(X_syd_tf)\n",
    "yhat_syd_rfc_pp = rfc_hp.predict_proba(X_syd_tf)\n",
    "\n",
    "# Sum all the true/false positives/negatives combinations\n",
    "\n",
    "tp = np.sum((y_syd == 1) & (yhat_syd_rfc == 1))\n",
    "fp = np.sum((y_syd == 0) & (yhat_syd_rfc == 1))\n",
    "tn = np.sum((y_syd == 0) & (yhat_syd_rfc == 0))\n",
    "fn = np.sum((y_syd == 1) & (yhat_syd_rfc == 0))\n",
    "\n",
    "# convert the predicted and actual values to a confusion array\n",
    "\n",
    "confusion_array_rfc_syd = np.array(confusion_matrix(y_syd, yhat_syd_rfc, labels=[1,0]))\n",
    "\n",
    "confusion_rfc_syd = pd.DataFrame(confusion_array_rfc_syd, index=['hail', 'no hail'],\n",
    "                         columns=['predicted_hail','predicted_no_hail'])\n",
    "confusion_rfc_syd"
   ]
  },
  {
   "cell_type": "code",
   "execution_count": null,
   "metadata": {
    "collapsed": false,
    "deletable": true,
    "editable": true
   },
   "outputs": [],
   "source": [
    "# Create predicted y values for decision tree analysis \n",
    "\n",
    "yhat_bris_rfc = rfc_hp.predict(X_bris_tf)\n",
    "yhat_bris_rfc_pp = rfc_hp.predict_proba(X_bris_tf)\n",
    "\n",
    "# Sum all the true/false positives/negatives combinations\n",
    "\n",
    "tp = np.sum((y_bris == 1) & (yhat_bris_rfc == 1))\n",
    "fp = np.sum((y_bris == 0) & (yhat_bris_rfc == 1))\n",
    "tn = np.sum((y_bris == 0) & (yhat_bris_rfc == 0))\n",
    "fn = np.sum((y_bris == 1) & (yhat_bris_rfc == 0))\n",
    "\n",
    "# convert the predicted and actual values to a confusion array\n",
    "\n",
    "confusion_array_rfc_bris = np.array(confusion_matrix(y_bris, yhat_bris_rfc, labels=[1,0]))\n",
    "\n",
    "confusion_rfc_bris = pd.DataFrame(confusion_array_rfc_bris, index=['hail', 'no hail'],\n",
    "                         columns=['predicted_hail','predicted_no_hail'])\n",
    "confusion_rfc_bris"
   ]
  },
  {
   "cell_type": "markdown",
   "metadata": {
    "deletable": true,
    "editable": true
   },
   "source": [
    "### Sydney Train / Brisbane Test - Random Forest Classification"
   ]
  },
  {
   "cell_type": "code",
   "execution_count": null,
   "metadata": {
    "collapsed": false,
    "deletable": true,
    "editable": true
   },
   "outputs": [],
   "source": [
    "rfc_hp_syd = RandomForestClassifier(bootstrap=True, class_weight=None, criterion='gini',\n",
    "            max_depth=None, max_features='auto', max_leaf_nodes=None,\n",
    "            min_impurity_split=1e-07, min_samples_leaf=1,\n",
    "            min_samples_split=2, min_weight_fraction_leaf=0.0,\n",
    "            n_estimators=20, n_jobs=1, oob_score=False, random_state=None,\n",
    "            verbose=0, warm_start=False)\n",
    "\n",
    "rfc_hp_syd.fit(X_syd_tf, y_syd)\n",
    "\n",
    "rfc_hp_scores = cross_val_score(rfc_hp_syd, X_syd_tf, y_syd, cv=5)\n",
    "\n",
    "print (rfc_hp_scores)\n",
    "print (sum(rfc_hp_scores)/len(rfc_hp_scores))"
   ]
  },
  {
   "cell_type": "code",
   "execution_count": null,
   "metadata": {
    "collapsed": false,
    "deletable": true,
    "editable": true
   },
   "outputs": [],
   "source": [
    "# Extract the top features from the decision tree classifier.\n",
    "\n",
    "top_features_rfc_syd = pd.DataFrame({\n",
    "        'feature':htt_total.columns,\n",
    "        'importance':rfc_hp_syd.feature_importances_})\n",
    "\n",
    "top_features_rfc.sort_values('importance', ascending=False, inplace=True)\n",
    "top_features_rfc.head(20)"
   ]
  },
  {
   "cell_type": "code",
   "execution_count": null,
   "metadata": {
    "collapsed": false,
    "deletable": true,
    "editable": true
   },
   "outputs": [],
   "source": [
    "# Create predicted y values for decision tree analysis \n",
    "\n",
    "yhat_bris_rfc = rfc_hp_syd.predict(X_bris_tf)\n",
    "yhat_bris_rfc_pp = rfc_hp_syd.predict_proba(X_bris_tf)\n",
    "\n",
    "# Sum all the true/false positives/negatives combinations\n",
    "\n",
    "tp = np.sum((y_bris == 1) & (yhat_bris_rfc == 1))\n",
    "fp = np.sum((y_bris == 0) & (yhat_bris_rfc == 1))\n",
    "tn = np.sum((y_bris == 0) & (yhat_bris_rfc == 0))\n",
    "fn = np.sum((y_bris == 1) & (yhat_bris_rfc == 0))\n",
    "\n",
    "# convert the predicted and actual values to a confusion array\n",
    "\n",
    "confusion_array_rfc_bris = np.array(confusion_matrix(y_bris, yhat_bris_rfc, labels=[1,0]))\n",
    "\n",
    "confusion_rfc_bris = pd.DataFrame(confusion_array_rfc_bris, index=['hail', 'no hail'],\n",
    "                         columns=['predicted_hail','predicted_no_hail'])\n",
    "confusion_rfc_bris"
   ]
  },
  {
   "cell_type": "code",
   "execution_count": null,
   "metadata": {
    "collapsed": false,
    "deletable": true,
    "editable": true
   },
   "outputs": [],
   "source": [
    "# Create predicted y values for decision tree analysis \n",
    "\n",
    "yhat_syd_rfc = rfc_hp.predict(X_syd_tf)\n",
    "yhat_syd_rfc_pp = rfc_hp.predict_proba(X_syd_tf)\n",
    "\n",
    "# Sum all the true/false positives/negatives combinations\n",
    "\n",
    "tp = np.sum((y_syd == 1) & (yhat_syd_rfc == 1))\n",
    "fp = np.sum((y_syd == 0) & (yhat_syd_rfc == 1))\n",
    "tn = np.sum((y_syd == 0) & (yhat_syd_rfc == 0))\n",
    "fn = np.sum((y_syd == 1) & (yhat_syd_rfc == 0))\n",
    "\n",
    "# convert the predicted and actual values to a confusion array\n",
    "\n",
    "confusion_array_rfc_syd = np.array(confusion_matrix(y_syd, yhat_syd_rfc, labels=[1,0]))\n",
    "\n",
    "confusion_rfc_syd = pd.DataFrame(confusion_array_rfc_syd, index=['hail', 'no hail'],\n",
    "                         columns=['predicted_hail','predicted_no_hail'])\n",
    "confusion_rfc_syd"
   ]
  },
  {
   "cell_type": "code",
   "execution_count": null,
   "metadata": {
    "collapsed": false,
    "deletable": true,
    "editable": true
   },
   "outputs": [],
   "source": [
    "rfc_total = RandomForestClassifier(bootstrap=True, class_weight=None, criterion='gini',\n",
    "            max_depth=None, max_features='auto', max_leaf_nodes=None,\n",
    "            min_impurity_split=1e-07, min_samples_leaf=1,\n",
    "            min_samples_split=2, min_weight_fraction_leaf=0.0,\n",
    "            n_estimators=20, n_jobs=1, oob_score=False, random_state=None,\n",
    "            verbose=0, warm_start=False)\n",
    "\n",
    "# Extract the top features from the decision tree classifier.\n",
    "rfc_total.fit(X_total_tf, y_total)\n",
    "\n",
    "top_features_rfc = pd.DataFrame({\n",
    "        'feature':htt_total.columns,\n",
    "        'importance':rfc_total.feature_importances_})\n",
    "\n",
    "top_features_rfc.sort_values('importance', ascending=False, inplace=True)\n",
    "print (top_features_rfc.head(20))\n",
    "\n",
    "# Create predicted y values for decision tree analysis \n",
    "\n",
    "yhat_total_rfc = rfc_total.predict(X_total_tf)\n",
    "yhat_total_rfc_pp = rfc_total.predict_proba(X_total_tf)\n",
    "\n",
    "# Sum all the true/false positives/negatives combinations\n",
    "\n",
    "tp = np.sum((y_total == 1) & (yhat_total_rfc == 1))\n",
    "fp = np.sum((y_total == 0) & (yhat_total_rfc == 1))\n",
    "tn = np.sum((y_total == 0) & (yhat_total_rfc == 0))\n",
    "fn = np.sum((y_total == 1) & (yhat_total_rfc == 0))\n",
    "\n",
    "# convert the predicted and actual values to a confusion array\n",
    "\n",
    "confusion_array_rfc = np.array(confusion_matrix(y_total, yhat_total_rfc, labels=[1,0]))\n",
    "\n",
    "confusion_rfc = pd.DataFrame(confusion_array_rfc, index=['hail', 'no hail'],\n",
    "                         columns=['predicted_hail','predicted_no_hail'])\n",
    "confusion_rfc"
   ]
  },
  {
   "cell_type": "code",
   "execution_count": null,
   "metadata": {
    "collapsed": true,
    "deletable": true,
    "editable": true
   },
   "outputs": [],
   "source": []
  }
 ],
 "metadata": {
  "kernelspec": {
   "display_name": "Python 3",
   "language": "python",
   "name": "python3"
  },
  "language_info": {
   "codemirror_mode": {
    "name": "ipython",
    "version": 3
   },
   "file_extension": ".py",
   "mimetype": "text/x-python",
   "name": "python",
   "nbconvert_exporter": "python",
   "pygments_lexer": "ipython3",
   "version": "3.6.0"
  }
 },
 "nbformat": 4,
 "nbformat_minor": 2
}
