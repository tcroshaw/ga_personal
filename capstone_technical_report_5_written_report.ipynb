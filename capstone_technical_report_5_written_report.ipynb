{
 "cells": [
  {
   "cell_type": "markdown",
   "metadata": {},
   "source": [
    "## Technical Report - Notebook 5\n",
    "\n",
    "# Using Social Data to Predict Natural Catastrophes \n",
    "\n",
    "### Final Written Report"
   ]
  },
  {
   "cell_type": "markdown",
   "metadata": {},
   "source": [
    "### Contents\n",
    "\n",
    "1. Executive Summary\t\t\t\t\n",
    "2. Data Discussion: Data aquisition and querying\t\t\t\t\n",
    "3. Data Parsing: Identifying outliers, defining variables, cleaning data\t\t\t\n",
    "4. Statistical Analysis: Data correlation and visualisation\t\t\t\n",
    "5. Refine: Describe and plot your data\t\t\t\t\n",
    "6. Model: Perform model (train subset as needed)\t\t\t\t\n",
    "7. Model: Tune and evaluate model\t\t\t\t\n",
    "8. Data pipelines - importing/sorting/querying/munging\t\t\t\t\n",
    "9. Discuss statistical and visual analysis\t\t\t\t\n",
    "10. Algorithm Development: Discuss model selection and implementation process\t\t\t\t\n",
    "11. Project Success: Interpretation of findings and relating to goals/criteria\t\t\t\t\n",
    "12. Stakeholder Recommendation and Next Steps\t\t\t\t\n",
    "13. Model Deployment: Retraining and deploying model in a production environment"
   ]
  },
  {
   "cell_type": "code",
   "execution_count": null,
   "metadata": {
    "collapsed": true
   },
   "outputs": [],
   "source": []
  }
 ],
 "metadata": {
  "kernelspec": {
   "display_name": "Python 3",
   "language": "python",
   "name": "python3"
  },
  "language_info": {
   "codemirror_mode": {
    "name": "ipython",
    "version": 3
   },
   "file_extension": ".py",
   "mimetype": "text/x-python",
   "name": "python",
   "nbconvert_exporter": "python",
   "pygments_lexer": "ipython3",
   "version": "3.6.0"
  }
 },
 "nbformat": 4,
 "nbformat_minor": 2
}
